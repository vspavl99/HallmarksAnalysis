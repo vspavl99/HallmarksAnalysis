{
 "cells": [
  {
   "cell_type": "code",
   "execution_count": 1,
   "metadata": {
    "collapsed": true
   },
   "outputs": [
    {
     "data": {
      "text/plain": "     Unnamed: 0           image_name        city  year\n0             0       1_original.jpg  Birmingham  1914\n1             1       2_original.jpg  Birmingham  1917\n2             2       3_original.jpg  Birmingham  1901\n3             3       4_original.jpg   Sheffield  1901\n4             4       5_original.jpg  Birmingham  1904\n..          ...                  ...         ...   ...\n567         567  N95_95_original.jpg     Chester  1902\n568         568  N96_96_original.jpg      London  1898\n569         569  N97_97_original.jpg      London  1901\n570         570  N98_98_original.jpg      London  1889\n571         571  N99_99_original.jpg      London  1887\n\n[572 rows x 4 columns]",
      "text/html": "<div>\n<style scoped>\n    .dataframe tbody tr th:only-of-type {\n        vertical-align: middle;\n    }\n\n    .dataframe tbody tr th {\n        vertical-align: top;\n    }\n\n    .dataframe thead th {\n        text-align: right;\n    }\n</style>\n<table border=\"1\" class=\"dataframe\">\n  <thead>\n    <tr style=\"text-align: right;\">\n      <th></th>\n      <th>Unnamed: 0</th>\n      <th>image_name</th>\n      <th>city</th>\n      <th>year</th>\n    </tr>\n  </thead>\n  <tbody>\n    <tr>\n      <th>0</th>\n      <td>0</td>\n      <td>1_original.jpg</td>\n      <td>Birmingham</td>\n      <td>1914</td>\n    </tr>\n    <tr>\n      <th>1</th>\n      <td>1</td>\n      <td>2_original.jpg</td>\n      <td>Birmingham</td>\n      <td>1917</td>\n    </tr>\n    <tr>\n      <th>2</th>\n      <td>2</td>\n      <td>3_original.jpg</td>\n      <td>Birmingham</td>\n      <td>1901</td>\n    </tr>\n    <tr>\n      <th>3</th>\n      <td>3</td>\n      <td>4_original.jpg</td>\n      <td>Sheffield</td>\n      <td>1901</td>\n    </tr>\n    <tr>\n      <th>4</th>\n      <td>4</td>\n      <td>5_original.jpg</td>\n      <td>Birmingham</td>\n      <td>1904</td>\n    </tr>\n    <tr>\n      <th>...</th>\n      <td>...</td>\n      <td>...</td>\n      <td>...</td>\n      <td>...</td>\n    </tr>\n    <tr>\n      <th>567</th>\n      <td>567</td>\n      <td>N95_95_original.jpg</td>\n      <td>Chester</td>\n      <td>1902</td>\n    </tr>\n    <tr>\n      <th>568</th>\n      <td>568</td>\n      <td>N96_96_original.jpg</td>\n      <td>London</td>\n      <td>1898</td>\n    </tr>\n    <tr>\n      <th>569</th>\n      <td>569</td>\n      <td>N97_97_original.jpg</td>\n      <td>London</td>\n      <td>1901</td>\n    </tr>\n    <tr>\n      <th>570</th>\n      <td>570</td>\n      <td>N98_98_original.jpg</td>\n      <td>London</td>\n      <td>1889</td>\n    </tr>\n    <tr>\n      <th>571</th>\n      <td>571</td>\n      <td>N99_99_original.jpg</td>\n      <td>London</td>\n      <td>1887</td>\n    </tr>\n  </tbody>\n</table>\n<p>572 rows × 4 columns</p>\n</div>"
     },
     "execution_count": 1,
     "metadata": {},
     "output_type": "execute_result"
    }
   ],
   "source": [
    "import pandas as pd\n",
    "data = pd.read_csv('Data/annotation_raw.csv')\n",
    "data"
   ]
  },
  {
   "cell_type": "code",
   "execution_count": 2,
   "outputs": [
    {
     "data": {
      "text/plain": "London        259\nBirmingham    168\nSheffield     103\nChester        16\nEdinburgh       9\nGlasgow         6\nDublin          3\nNewcastle       3\nLOndon          2\nExeter          1\n1901            1\nLONDON          1\nName: city, dtype: int64"
     },
     "execution_count": 2,
     "metadata": {},
     "output_type": "execute_result"
    }
   ],
   "source": [
    "data['city'].value_counts()"
   ],
   "metadata": {
    "collapsed": false,
    "pycharm": {
     "name": "#%%\n"
    }
   }
  },
  {
   "cell_type": "code",
   "execution_count": 5,
   "outputs": [
    {
     "data": {
      "text/plain": "london        262\nbirmingham    168\nsheffield     103\nchester        16\nedinburgh       9\nglasgow         6\ndublin          3\nnewcastle       3\n1901            1\nexeter          1\nName: city, dtype: int64"
     },
     "execution_count": 5,
     "metadata": {},
     "output_type": "execute_result"
    }
   ],
   "source": [
    "data['city'] = data['city'].map(lambda x: x.lower())\n",
    "data['city'].value_counts()"
   ],
   "metadata": {
    "collapsed": false,
    "pycharm": {
     "name": "#%%\n"
    }
   }
  },
  {
   "cell_type": "code",
   "execution_count": 6,
   "outputs": [
    {
     "data": {
      "text/plain": "1932:    21\n1901     12\n1905     10\n1909     10\n1921     10\n         ..\n1868      1\n1871      1\n1939      1\n1969      1\n1775      1\nName: year, Length: 240, dtype: int64"
     },
     "execution_count": 6,
     "metadata": {},
     "output_type": "execute_result"
    }
   ],
   "source": [
    "data['year'].value_counts()"
   ],
   "metadata": {
    "collapsed": false,
    "pycharm": {
     "name": "#%%\n"
    }
   }
  },
  {
   "cell_type": "code",
   "execution_count": 7,
   "outputs": [
    {
     "data": {
      "text/plain": "1932    23\n1901    15\n1909    13\n1904    12\n1902    12\n        ..\n1871     1\n1854     1\n1818     1\n1868     1\n1891     1\nName: year, Length: 176, dtype: int64"
     },
     "execution_count": 7,
     "metadata": {},
     "output_type": "execute_result"
    }
   ],
   "source": [
    "data['year'] = data['year'].map(lambda x: x.strip(':,. '))\n",
    "data['year'].value_counts()"
   ],
   "metadata": {
    "collapsed": false,
    "pycharm": {
     "name": "#%%\n"
    }
   }
  },
  {
   "cell_type": "code",
   "execution_count": 8,
   "outputs": [
    {
     "data": {
      "text/plain": "array(['1914', '1917', '1901', '1904', '1921', '1903', '1905', '1902',\n       '2000', '1994', '1985', '2002', '1923', '1990', '1970', '1978',\n       '1945', '1909', '1971', '1938', '1991', '2017', '2001', '1972',\n       '1982', '1973', '1969', '1950', '1935', '1932', '1953', '1979',\n       '1975', '1912', '1913', '1920', '1899', '1900', '1910', '1895',\n       '2020', '1898', '1896', '1924', '1931', '1892', '1838', '1906',\n       '1824', '1890', '1818', '1741', '1934', '1817', '1929', '1961',\n       '1853', '1936', '1907', '1823', '1922', '1986', '1812', '1805',\n       '1976', '1955', '1968', '1825', '1919', '1930', '1941', '1928',\n       '1829', '1963', '1927', '1820', '1891', '1988', '1981', '2005',\n       '1952', '1926', '1916', '1977', '1908', '1788', '1918', 'London',\n       '1874', '1828', '1870', '1949', '1940', '1957', '1814', '1925',\n       '1939', '1911', '1792', '1854', '1836', '1989', '1827', '1849',\n       '1808', '1885', '1834', '1897', '1841', '1915', '1948', '1958',\n       '1865', '1960', '1889', '1798', '1894', '1864', '1882', '1839',\n       '1861', '1876', '1794', '1967', '1802', '1879', '1888', '1964',\n       '1844', '1860', '1866', '1799', '1821', '1858', '1883', '1886',\n       '1966', '1816', '1937', '1852', '1893', '1877', '1790', '1813',\n       '1847', '1789', '1806', '1791', '1811', '1730', '1800', '1787',\n       '1797', '1795', '1780', '1837', '1785', '1801', '1803', '1868',\n       '1804', '1942', '1819', '1933', '1873', '1871', '1754', '1869',\n       '1850', '1784', '1872', '1765', '1772', '1776', '1775', '1887'],\n      dtype=object)"
     },
     "execution_count": 8,
     "metadata": {},
     "output_type": "execute_result"
    }
   ],
   "source": [
    "data['year'].unique()"
   ],
   "metadata": {
    "collapsed": false,
    "pycharm": {
     "name": "#%%\n"
    }
   }
  },
  {
   "cell_type": "code",
   "execution_count": 13,
   "outputs": [
    {
     "data": {
      "text/plain": "     Unnamed: 0        image_name  city    year\n181         181  182_original.jpg  1901  London",
      "text/html": "<div>\n<style scoped>\n    .dataframe tbody tr th:only-of-type {\n        vertical-align: middle;\n    }\n\n    .dataframe tbody tr th {\n        vertical-align: top;\n    }\n\n    .dataframe thead th {\n        text-align: right;\n    }\n</style>\n<table border=\"1\" class=\"dataframe\">\n  <thead>\n    <tr style=\"text-align: right;\">\n      <th></th>\n      <th>Unnamed: 0</th>\n      <th>image_name</th>\n      <th>city</th>\n      <th>year</th>\n    </tr>\n  </thead>\n  <tbody>\n    <tr>\n      <th>181</th>\n      <td>181</td>\n      <td>182_original.jpg</td>\n      <td>1901</td>\n      <td>London</td>\n    </tr>\n  </tbody>\n</table>\n</div>"
     },
     "execution_count": 13,
     "metadata": {},
     "output_type": "execute_result"
    }
   ],
   "source": [
    "data[data['year'].map(lambda x: not x.isnumeric())]"
   ],
   "metadata": {
    "collapsed": false,
    "pycharm": {
     "name": "#%%\n"
    }
   }
  },
  {
   "cell_type": "code",
   "execution_count": 28,
   "outputs": [
    {
     "data": {
      "text/plain": "Unnamed: 0                 181\nimage_name    182_original.jpg\ncity                    london\nyear                      1901\nName: 181, dtype: object"
     },
     "execution_count": 28,
     "metadata": {},
     "output_type": "execute_result"
    }
   ],
   "source": [
    "data['city'].replace({'1901': 'london'})\n",
    "data['year'].replace({'london': '1901'})\n",
    "data.loc[181]"
   ],
   "metadata": {
    "collapsed": false,
    "pycharm": {
     "name": "#%%\n"
    }
   }
  },
  {
   "cell_type": "code",
   "execution_count": 37,
   "outputs": [],
   "source": [
    "data.to_csv(r'Data/annotation.csv')"
   ],
   "metadata": {
    "collapsed": false,
    "pycharm": {
     "name": "#%%\n"
    }
   }
  },
  {
   "cell_type": "code",
   "execution_count": null,
   "outputs": [],
   "source": [
    "should_get_same_class = True\n",
    "row_anchor = {}\n",
    "sub_dataset = data[data['target'] == row_anchor['target']] if should_get_same_class else data[data['target'] == row_anchor['target']]"
   ],
   "metadata": {
    "collapsed": false,
    "pycharm": {
     "name": "#%%\n"
    }
   }
  }
 ],
 "metadata": {
  "kernelspec": {
   "display_name": "Python 3",
   "language": "python",
   "name": "python3"
  },
  "language_info": {
   "codemirror_mode": {
    "name": "ipython",
    "version": 2
   },
   "file_extension": ".py",
   "mimetype": "text/x-python",
   "name": "python",
   "nbconvert_exporter": "python",
   "pygments_lexer": "ipython2",
   "version": "2.7.6"
  }
 },
 "nbformat": 4,
 "nbformat_minor": 0
}