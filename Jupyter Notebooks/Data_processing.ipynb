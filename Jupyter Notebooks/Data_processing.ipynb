{
 "cells": [
  {
   "cell_type": "markdown",
   "source": [
    " # Initial data preprocessing\n",
    " ## Clear mistakes in data"
   ],
   "metadata": {
    "collapsed": false
   }
  },
  {
   "cell_type": "code",
   "execution_count": 3,
   "metadata": {
    "collapsed": true
   },
   "outputs": [
    {
     "data": {
      "text/plain": "     Unnamed: 0           image_name        city  year\n0             0       1_original.jpg  Birmingham  1914\n1             1       2_original.jpg  Birmingham  1917\n2             2       3_original.jpg  Birmingham  1901\n3             3       4_original.jpg   Sheffield  1901\n4             4       5_original.jpg  Birmingham  1904\n..          ...                  ...         ...   ...\n567         567  N95_95_original.jpg     Chester  1902\n568         568  N96_96_original.jpg      London  1898\n569         569  N97_97_original.jpg      London  1901\n570         570  N98_98_original.jpg      London  1889\n571         571  N99_99_original.jpg      London  1887\n\n[572 rows x 4 columns]",
      "text/html": "<div>\n<style scoped>\n    .dataframe tbody tr th:only-of-type {\n        vertical-align: middle;\n    }\n\n    .dataframe tbody tr th {\n        vertical-align: top;\n    }\n\n    .dataframe thead th {\n        text-align: right;\n    }\n</style>\n<table border=\"1\" class=\"dataframe\">\n  <thead>\n    <tr style=\"text-align: right;\">\n      <th></th>\n      <th>Unnamed: 0</th>\n      <th>image_name</th>\n      <th>city</th>\n      <th>year</th>\n    </tr>\n  </thead>\n  <tbody>\n    <tr>\n      <th>0</th>\n      <td>0</td>\n      <td>1_original.jpg</td>\n      <td>Birmingham</td>\n      <td>1914</td>\n    </tr>\n    <tr>\n      <th>1</th>\n      <td>1</td>\n      <td>2_original.jpg</td>\n      <td>Birmingham</td>\n      <td>1917</td>\n    </tr>\n    <tr>\n      <th>2</th>\n      <td>2</td>\n      <td>3_original.jpg</td>\n      <td>Birmingham</td>\n      <td>1901</td>\n    </tr>\n    <tr>\n      <th>3</th>\n      <td>3</td>\n      <td>4_original.jpg</td>\n      <td>Sheffield</td>\n      <td>1901</td>\n    </tr>\n    <tr>\n      <th>4</th>\n      <td>4</td>\n      <td>5_original.jpg</td>\n      <td>Birmingham</td>\n      <td>1904</td>\n    </tr>\n    <tr>\n      <th>...</th>\n      <td>...</td>\n      <td>...</td>\n      <td>...</td>\n      <td>...</td>\n    </tr>\n    <tr>\n      <th>567</th>\n      <td>567</td>\n      <td>N95_95_original.jpg</td>\n      <td>Chester</td>\n      <td>1902</td>\n    </tr>\n    <tr>\n      <th>568</th>\n      <td>568</td>\n      <td>N96_96_original.jpg</td>\n      <td>London</td>\n      <td>1898</td>\n    </tr>\n    <tr>\n      <th>569</th>\n      <td>569</td>\n      <td>N97_97_original.jpg</td>\n      <td>London</td>\n      <td>1901</td>\n    </tr>\n    <tr>\n      <th>570</th>\n      <td>570</td>\n      <td>N98_98_original.jpg</td>\n      <td>London</td>\n      <td>1889</td>\n    </tr>\n    <tr>\n      <th>571</th>\n      <td>571</td>\n      <td>N99_99_original.jpg</td>\n      <td>London</td>\n      <td>1887</td>\n    </tr>\n  </tbody>\n</table>\n<p>572 rows × 4 columns</p>\n</div>"
     },
     "execution_count": 3,
     "metadata": {},
     "output_type": "execute_result"
    }
   ],
   "source": [
    "import pandas as pd\n",
    "data = pd.read_csv('../Data/annotation_raw.csv')\n",
    "data"
   ]
  },
  {
   "cell_type": "code",
   "execution_count": null,
   "outputs": [],
   "source": [
    "data['city'].value_counts()"
   ],
   "metadata": {
    "collapsed": false,
    "pycharm": {
     "name": "#%%\n"
    }
   }
  },
  {
   "cell_type": "code",
   "execution_count": null,
   "outputs": [],
   "source": [
    "data['city'] = data['city'].map(lambda x: x.lower())\n",
    "data['city'].value_counts()"
   ],
   "metadata": {
    "collapsed": false,
    "pycharm": {
     "name": "#%%\n"
    }
   }
  },
  {
   "cell_type": "code",
   "execution_count": null,
   "outputs": [],
   "source": [
    "data['year'].value_counts()"
   ],
   "metadata": {
    "collapsed": false,
    "pycharm": {
     "name": "#%%\n"
    }
   }
  },
  {
   "cell_type": "code",
   "execution_count": null,
   "outputs": [],
   "source": [
    "data['year'] = data['year'].map(lambda x: x.strip(':,. '))\n",
    "data['year'].value_counts()"
   ],
   "metadata": {
    "collapsed": false,
    "pycharm": {
     "name": "#%%\n"
    }
   }
  },
  {
   "cell_type": "code",
   "execution_count": null,
   "outputs": [],
   "source": [
    "data['year'].unique()"
   ],
   "metadata": {
    "collapsed": false,
    "pycharm": {
     "name": "#%%\n"
    }
   }
  },
  {
   "cell_type": "code",
   "execution_count": null,
   "outputs": [],
   "source": [
    "data[data['year'].map(lambda x: not x.isnumeric())]"
   ],
   "metadata": {
    "collapsed": false,
    "pycharm": {
     "name": "#%%\n"
    }
   }
  },
  {
   "cell_type": "code",
   "execution_count": null,
   "outputs": [],
   "source": [
    "data['city'].replace({'1901': 'london'})\n",
    "data['year'].replace({'london': '1901'})\n",
    "data.loc[181]"
   ],
   "metadata": {
    "collapsed": false,
    "pycharm": {
     "name": "#%%\n"
    }
   }
  },
  {
   "cell_type": "code",
   "execution_count": null,
   "outputs": [],
   "source": [
    "data.to_csv(r'Data/annotation.csv')"
   ],
   "metadata": {
    "collapsed": false,
    "pycharm": {
     "name": "#%%\n"
    }
   }
  },
  {
   "cell_type": "code",
   "execution_count": null,
   "outputs": [],
   "source": [
    "should_get_same_class = True\n",
    "row_anchor = {}\n",
    "sub_dataset = data[data['target'] == row_anchor['target']] if should_get_same_class else data[data['target'] == row_anchor['target']]"
   ],
   "metadata": {
    "collapsed": false,
    "pycharm": {
     "name": "#%%\n"
    }
   }
  },
  {
   "cell_type": "markdown",
   "source": [
    "# Preprocessing bounding box annotation"
   ],
   "metadata": {
    "collapsed": false
   }
  },
  {
   "cell_type": "code",
   "execution_count": 57,
   "outputs": [
    {
     "data": {
      "text/plain": "                 ImageName                                               bbox\n0           1_original.jpg  {\"name\":\"rect\",\"x\":1123,\"y\":775,\"width\":134,\"h...\n1           2_original.jpg  {\"name\":\"rect\",\"x\":520,\"y\":414,\"width\":564,\"he...\n2           3_original.jpg  {\"name\":\"rect\",\"x\":442,\"y\":236,\"width\":370,\"he...\n3           4_original.jpg  {\"name\":\"rect\",\"x\":517,\"y\":411,\"width\":404,\"he...\n4           5_original.jpg  {\"name\":\"rect\",\"x\":340,\"y\":227,\"width\":470,\"he...\n..                     ...                                                ...\n600  N286_286_original.jpg  {\"name\":\"rect\",\"x\":25,\"y\":161,\"width\":414,\"hei...\n601  N287_287_original.jpg  {\"name\":\"rect\",\"x\":30,\"y\":178,\"width\":416,\"hei...\n602  N288_288_original.jpg  {\"name\":\"rect\",\"x\":54,\"y\":178,\"width\":395,\"hei...\n603  N289_289_original.jpg  {\"name\":\"rect\",\"x\":23,\"y\":142,\"width\":430,\"hei...\n604  N290_290_original.jpg  {\"name\":\"rect\",\"x\":114,\"y\":160,\"width\":302,\"he...\n\n[605 rows x 2 columns]",
      "text/html": "<div>\n<style scoped>\n    .dataframe tbody tr th:only-of-type {\n        vertical-align: middle;\n    }\n\n    .dataframe tbody tr th {\n        vertical-align: top;\n    }\n\n    .dataframe thead th {\n        text-align: right;\n    }\n</style>\n<table border=\"1\" class=\"dataframe\">\n  <thead>\n    <tr style=\"text-align: right;\">\n      <th></th>\n      <th>ImageName</th>\n      <th>bbox</th>\n    </tr>\n  </thead>\n  <tbody>\n    <tr>\n      <th>0</th>\n      <td>1_original.jpg</td>\n      <td>{\"name\":\"rect\",\"x\":1123,\"y\":775,\"width\":134,\"h...</td>\n    </tr>\n    <tr>\n      <th>1</th>\n      <td>2_original.jpg</td>\n      <td>{\"name\":\"rect\",\"x\":520,\"y\":414,\"width\":564,\"he...</td>\n    </tr>\n    <tr>\n      <th>2</th>\n      <td>3_original.jpg</td>\n      <td>{\"name\":\"rect\",\"x\":442,\"y\":236,\"width\":370,\"he...</td>\n    </tr>\n    <tr>\n      <th>3</th>\n      <td>4_original.jpg</td>\n      <td>{\"name\":\"rect\",\"x\":517,\"y\":411,\"width\":404,\"he...</td>\n    </tr>\n    <tr>\n      <th>4</th>\n      <td>5_original.jpg</td>\n      <td>{\"name\":\"rect\",\"x\":340,\"y\":227,\"width\":470,\"he...</td>\n    </tr>\n    <tr>\n      <th>...</th>\n      <td>...</td>\n      <td>...</td>\n    </tr>\n    <tr>\n      <th>600</th>\n      <td>N286_286_original.jpg</td>\n      <td>{\"name\":\"rect\",\"x\":25,\"y\":161,\"width\":414,\"hei...</td>\n    </tr>\n    <tr>\n      <th>601</th>\n      <td>N287_287_original.jpg</td>\n      <td>{\"name\":\"rect\",\"x\":30,\"y\":178,\"width\":416,\"hei...</td>\n    </tr>\n    <tr>\n      <th>602</th>\n      <td>N288_288_original.jpg</td>\n      <td>{\"name\":\"rect\",\"x\":54,\"y\":178,\"width\":395,\"hei...</td>\n    </tr>\n    <tr>\n      <th>603</th>\n      <td>N289_289_original.jpg</td>\n      <td>{\"name\":\"rect\",\"x\":23,\"y\":142,\"width\":430,\"hei...</td>\n    </tr>\n    <tr>\n      <th>604</th>\n      <td>N290_290_original.jpg</td>\n      <td>{\"name\":\"rect\",\"x\":114,\"y\":160,\"width\":302,\"he...</td>\n    </tr>\n  </tbody>\n</table>\n<p>605 rows × 2 columns</p>\n</div>"
     },
     "execution_count": 57,
     "metadata": {},
     "output_type": "execute_result"
    }
   ],
   "source": [
    "data_frame = pd.read_csv('../Data/bounding_boxes_viavgg.csv')\n",
    "data_frame = data_frame[['filename', 'region_shape_attributes']]\n",
    "data_frame.columns = ['ImageName', 'bbox']\n",
    "data_frame"
   ],
   "metadata": {
    "collapsed": false,
    "pycharm": {
     "name": "#%%\n"
    }
   }
  },
  {
   "cell_type": "code",
   "execution_count": 58,
   "outputs": [],
   "source": [
    "import ast\n",
    "data_frame['left_x'] = data_frame['bbox'].apply(lambda x: ast.literal_eval(x).get('x'))\n",
    "data_frame['top_y'] = data_frame['bbox'].apply(lambda x: ast.literal_eval(x).get('y'))\n",
    "data_frame['bbox_width'] = data_frame['bbox'].apply(lambda x: ast.literal_eval(x).get('width'))\n",
    "data_frame['bbox_height'] = data_frame['bbox'].apply(lambda x: ast.literal_eval(x).get('height'))"
   ],
   "metadata": {
    "collapsed": false,
    "pycharm": {
     "name": "#%%\n"
    }
   }
  },
  {
   "cell_type": "code",
   "execution_count": 59,
   "outputs": [],
   "source": [
    "data_frame.to_csv('../Data/bounding_boxes.csv')"
   ],
   "metadata": {
    "collapsed": false,
    "pycharm": {
     "name": "#%%\n"
    }
   }
  },
  {
   "cell_type": "markdown",
   "source": [
    "# Split data into a train and test"
   ],
   "metadata": {
    "collapsed": false
   }
  },
  {
   "cell_type": "code",
   "execution_count": 63,
   "outputs": [],
   "source": [
    "from sklearn.model_selection import train_test_split\n",
    "\n",
    "data_frame = pd.read_csv('../Data/Classification/city_year.csv')\n",
    "\n",
    "data_frame_train, data_frame_val = train_test_split(data_frame, test_size=0.25, random_state=1)\n",
    "data_frame_train.to_csv('../Data/city_year_train.csv')\n",
    "data_frame_val.to_csv('../Data/city_year_val.csv')"
   ],
   "metadata": {
    "collapsed": false,
    "pycharm": {
     "name": "#%%\n"
    }
   }
  },
  {
   "cell_type": "code",
   "execution_count": 49,
   "outputs": [],
   "source": [],
   "metadata": {
    "collapsed": false,
    "pycharm": {
     "name": "#%%\n"
    }
   }
  }
 ],
 "metadata": {
  "kernelspec": {
   "display_name": "Python 3",
   "language": "python",
   "name": "python3"
  },
  "language_info": {
   "codemirror_mode": {
    "name": "ipython",
    "version": 2
   },
   "file_extension": ".py",
   "mimetype": "text/x-python",
   "name": "python",
   "nbconvert_exporter": "python",
   "pygments_lexer": "ipython2",
   "version": "2.7.6"
  }
 },
 "nbformat": 4,
 "nbformat_minor": 0
}