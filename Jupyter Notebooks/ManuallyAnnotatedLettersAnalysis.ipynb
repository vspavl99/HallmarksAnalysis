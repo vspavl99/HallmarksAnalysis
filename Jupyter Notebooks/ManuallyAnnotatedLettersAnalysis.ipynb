{
 "cells": [
  {
   "cell_type": "code",
   "execution_count": 4,
   "metadata": {
    "collapsed": true
   },
   "outputs": [],
   "source": [
    "import pandas as pd\n",
    "import numpy as np\n",
    "import matplotlib.pyplot as plt\n",
    "import os"
   ]
  },
  {
   "cell_type": "code",
   "execution_count": 29,
   "outputs": [],
   "source": [
    "annotation = pd.read_csv('../Data/ClassificationYear/letters2.csv')\n",
    "annotation['LabelId'] = annotation['LabelId'] - 5\n",
    "annotation['LabelName'] = annotation['LabelName'].map(lambda x: x.split()[1])\n",
    "annotation = annotation[['ImageName', 'LabelId', 'LabelName']]\n",
    "annotation.to_csv('../Data/ClassificationYear/letters.csv', index=False)"
   ],
   "metadata": {
    "collapsed": false,
    "pycharm": {
     "name": "#%%\n"
    }
   }
  },
  {
   "cell_type": "code",
   "execution_count": 26,
   "outputs": [
    {
     "data": {
      "text/plain": "LabelName  LabelId\nOther      26         219\nD          3           48\nR          17          43\nB          1           42\nO          14          39\nT          19          38\nM          12          37\nA          0           36\nP          15          36\nK          10          35\nN          13          35\nF          5           34\nQ          16          31\nE          4           29\nI          8           28\nS          18          28\nC          2           28\nU          20          28\nL          11          27\nH          7           27\nG          6           23\nZ          25          18\nV          21          10\nJ          9            8\nX          23           6\nW          22           4\nY          24           4\ndtype: int64"
     },
     "execution_count": 26,
     "metadata": {},
     "output_type": "execute_result"
    }
   ],
   "source": [
    "annotation[['LabelName', 'LabelId']].value_counts()"
   ],
   "metadata": {
    "collapsed": false,
    "pycharm": {
     "name": "#%%\n"
    }
   }
  },
  {
   "cell_type": "code",
   "execution_count": 32,
   "outputs": [],
   "source": [
    "annotation = pd.read_csv('../Data/ClassificationYear/letters2_val.csv')\n",
    "annotation['LabelId'] = annotation['LabelId'] - 5\n",
    "annotation['LabelName'] = annotation['LabelName'].map(lambda x: x.split()[1])\n",
    "annotation = annotation[['ImageName', 'LabelId', 'LabelName']]\n",
    "annotation.to_csv('../Data/ClassificationYear/letters_val.csv', index=False)\n"
   ],
   "metadata": {
    "collapsed": false,
    "pycharm": {
     "name": "#%%\n"
    }
   }
  },
  {
   "cell_type": "code",
   "execution_count": 33,
   "outputs": [
    {
     "data": {
      "text/plain": "LabelName  LabelId\nOther      26         61\nR          17         15\nE          4          14\nT          19         14\nN          13         13\nL          11         13\nD          3          13\nM          12         12\nU          20         11\nA          0          11\nH          7          11\nB          1           9\nS          18          9\nP          15          8\nC          2           7\nI          8           7\nQ          16          7\nG          6           6\nO          14          6\nJ          9           6\nF          5           6\nK          10          4\nV          21          3\nX          23          3\nZ          25          2\nW          22          1\nY          24          1\ndtype: int64"
     },
     "execution_count": 33,
     "metadata": {},
     "output_type": "execute_result"
    }
   ],
   "source": [
    "annotation[['LabelName', 'LabelId']].value_counts()\n"
   ],
   "metadata": {
    "collapsed": false,
    "pycharm": {
     "name": "#%%\n"
    }
   }
  },
  {
   "cell_type": "code",
   "execution_count": null,
   "outputs": [],
   "source": [],
   "metadata": {
    "collapsed": false,
    "pycharm": {
     "name": "#%%\n"
    }
   }
  }
 ],
 "metadata": {
  "kernelspec": {
   "display_name": "Python 3",
   "language": "python",
   "name": "python3"
  },
  "language_info": {
   "codemirror_mode": {
    "name": "ipython",
    "version": 2
   },
   "file_extension": ".py",
   "mimetype": "text/x-python",
   "name": "python",
   "nbconvert_exporter": "python",
   "pygments_lexer": "ipython2",
   "version": "2.7.6"
  }
 },
 "nbformat": 4,
 "nbformat_minor": 0
}