{
 "cells": [
  {
   "cell_type": "code",
   "execution_count": 1,
   "metadata": {
    "collapsed": true
   },
   "outputs": [],
   "source": [
    "import pandas as pd\n",
    "import numpy as np\n",
    "import matplotlib.pyplot as plt\n",
    "import os"
   ]
  },
  {
   "cell_type": "code",
   "execution_count": 2,
   "outputs": [],
   "source": [
    "annotation = pd.read_csv('../utils/letters2_val.csv')\n",
    "annotation['LabelId'] = annotation['LabelId'] - 5\n",
    "annotation['LabelName'] = annotation['LabelName'].map(lambda x: x.split()[1])\n",
    "annotation = annotation[['ImageName', 'LabelId', 'LabelName']]\n",
    "annotation.to_csv('../utils/letters_new.csv', index=False)"
   ],
   "metadata": {
    "collapsed": false,
    "pycharm": {
     "name": "#%%\n"
    }
   }
  },
  {
   "cell_type": "code",
   "execution_count": 3,
   "outputs": [
    {
     "data": {
      "text/plain": "LabelName  LabelId\nOther      26         109\nR          17          29\nO          14          25\nB          1           24\nK          10          23\nD          3           23\nA          0           22\nE          4           22\nM          12          22\nC          2           21\nN          13          20\nI          8           18\nH          7           18\nF          5           18\nT          19          18\nL          11          17\nP          15          17\nG          6           16\nZ          25          16\nS          18          11\nU          20          11\nQ          16           7\nV          21           6\nW          22           6\nY          24           6\nX          23           5\nJ          9            4\ndtype: int64"
     },
     "execution_count": 3,
     "metadata": {},
     "output_type": "execute_result"
    }
   ],
   "source": [
    "annotation[['LabelName', 'LabelId']].value_counts()"
   ],
   "metadata": {
    "collapsed": false,
    "pycharm": {
     "name": "#%%\n"
    }
   }
  },
  {
   "cell_type": "code",
   "execution_count": 32,
   "outputs": [],
   "source": [
    "annotation = pd.read_csv('../Data/ClassificationYear/letters2_val.csv')\n",
    "annotation['LabelId'] = annotation['LabelId'] - 5\n",
    "annotation['LabelName'] = annotation['LabelName'].map(lambda x: x.split()[1])\n",
    "annotation = annotation[['ImageName', 'LabelId', 'LabelName']]\n",
    "annotation.to_csv('../Data/ClassificationYear/letters_val.csv', index=False)\n"
   ],
   "metadata": {
    "collapsed": false,
    "pycharm": {
     "name": "#%%\n"
    }
   }
  },
  {
   "cell_type": "code",
   "execution_count": 33,
   "outputs": [
    {
     "data": {
      "text/plain": "LabelName  LabelId\nOther      26         61\nR          17         15\nE          4          14\nT          19         14\nN          13         13\nL          11         13\nD          3          13\nM          12         12\nU          20         11\nA          0          11\nH          7          11\nB          1           9\nS          18          9\nP          15          8\nC          2           7\nI          8           7\nQ          16          7\nG          6           6\nO          14          6\nJ          9           6\nF          5           6\nK          10          4\nV          21          3\nX          23          3\nZ          25          2\nW          22          1\nY          24          1\ndtype: int64"
     },
     "execution_count": 33,
     "metadata": {},
     "output_type": "execute_result"
    }
   ],
   "source": [
    "annotation[['LabelName', 'LabelId']].value_counts()\n"
   ],
   "metadata": {
    "collapsed": false,
    "pycharm": {
     "name": "#%%\n"
    }
   }
  },
  {
   "cell_type": "code",
   "execution_count": null,
   "outputs": [],
   "source": [],
   "metadata": {
    "collapsed": false,
    "pycharm": {
     "name": "#%%\n"
    }
   }
  }
 ],
 "metadata": {
  "kernelspec": {
   "display_name": "Python 3",
   "language": "python",
   "name": "python3"
  },
  "language_info": {
   "codemirror_mode": {
    "name": "ipython",
    "version": 2
   },
   "file_extension": ".py",
   "mimetype": "text/x-python",
   "name": "python",
   "nbconvert_exporter": "python",
   "pygments_lexer": "ipython2",
   "version": "2.7.6"
  }
 },
 "nbformat": 4,
 "nbformat_minor": 0
}