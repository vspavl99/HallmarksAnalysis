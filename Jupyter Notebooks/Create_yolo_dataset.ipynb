{
 "cells": [
  {
   "cell_type": "code",
   "execution_count": 1,
   "metadata": {},
   "outputs": [],
   "source": [
    "import cv2\n",
    "import os\n",
    "import pandas as pd\n",
    "import ast"
   ]
  },
  {
   "cell_type": "code",
   "execution_count": 3,
   "metadata": {
    "scrolled": true
   },
   "outputs": [
    {
     "data": {
      "text/plain": "                  filename  file_size file_attributes  region_count  \\\n0           1_original.jpg     398745              {}             2   \n1           1_original.jpg     398745              {}             2   \n2           2_original.jpg     172977              {}             1   \n3           3_original.jpg     144855              {}             1   \n4           4_original.jpg     205292              {}             1   \n..                     ...        ...             ...           ...   \n600  N286_286_original.jpg      29934              {}             1   \n601  N287_287_original.jpg      32886              {}             1   \n602  N288_288_original.jpg      30154              {}             1   \n603  N289_289_original.jpg      24162              {}             1   \n604  N290_290_original.jpg      22447              {}             1   \n\n     region_id                            region_shape_attributes  \\\n0            0  {\"name\":\"rect\",\"x\":441,\"y\":231,\"width\":32,\"hei...   \n1            1  {\"name\":\"rect\",\"x\":1217,\"y\":786,\"width\":31,\"he...   \n2            0  {\"name\":\"rect\",\"x\":925,\"y\":447,\"width\":127,\"he...   \n3            0  {\"name\":\"rect\",\"x\":714,\"y\":253,\"width\":75,\"hei...   \n4            0  {\"name\":\"rect\",\"x\":798,\"y\":448,\"width\":94,\"hei...   \n..         ...                                                ...   \n600          0  {\"name\":\"rect\",\"x\":378,\"y\":169,\"width\":65,\"hei...   \n601          0  {\"name\":\"rect\",\"x\":388,\"y\":228,\"width\":56,\"hei...   \n602          0  {\"name\":\"rect\",\"x\":362,\"y\":209,\"width\":77,\"hei...   \n603          0  {\"name\":\"rect\",\"x\":384,\"y\":237,\"width\":63,\"hei...   \n604          0  {\"name\":\"rect\",\"x\":337,\"y\":212,\"width\":78,\"hei...   \n\n    region_attributes  \n0                  {}  \n1                  {}  \n2                  {}  \n3                  {}  \n4                  {}  \n..                ...  \n600                {}  \n601                {}  \n602                {}  \n603                {}  \n604                {}  \n\n[605 rows x 7 columns]",
      "text/html": "<div>\n<style scoped>\n    .dataframe tbody tr th:only-of-type {\n        vertical-align: middle;\n    }\n\n    .dataframe tbody tr th {\n        vertical-align: top;\n    }\n\n    .dataframe thead th {\n        text-align: right;\n    }\n</style>\n<table border=\"1\" class=\"dataframe\">\n  <thead>\n    <tr style=\"text-align: right;\">\n      <th></th>\n      <th>filename</th>\n      <th>file_size</th>\n      <th>file_attributes</th>\n      <th>region_count</th>\n      <th>region_id</th>\n      <th>region_shape_attributes</th>\n      <th>region_attributes</th>\n    </tr>\n  </thead>\n  <tbody>\n    <tr>\n      <th>0</th>\n      <td>1_original.jpg</td>\n      <td>398745</td>\n      <td>{}</td>\n      <td>2</td>\n      <td>0</td>\n      <td>{\"name\":\"rect\",\"x\":441,\"y\":231,\"width\":32,\"hei...</td>\n      <td>{}</td>\n    </tr>\n    <tr>\n      <th>1</th>\n      <td>1_original.jpg</td>\n      <td>398745</td>\n      <td>{}</td>\n      <td>2</td>\n      <td>1</td>\n      <td>{\"name\":\"rect\",\"x\":1217,\"y\":786,\"width\":31,\"he...</td>\n      <td>{}</td>\n    </tr>\n    <tr>\n      <th>2</th>\n      <td>2_original.jpg</td>\n      <td>172977</td>\n      <td>{}</td>\n      <td>1</td>\n      <td>0</td>\n      <td>{\"name\":\"rect\",\"x\":925,\"y\":447,\"width\":127,\"he...</td>\n      <td>{}</td>\n    </tr>\n    <tr>\n      <th>3</th>\n      <td>3_original.jpg</td>\n      <td>144855</td>\n      <td>{}</td>\n      <td>1</td>\n      <td>0</td>\n      <td>{\"name\":\"rect\",\"x\":714,\"y\":253,\"width\":75,\"hei...</td>\n      <td>{}</td>\n    </tr>\n    <tr>\n      <th>4</th>\n      <td>4_original.jpg</td>\n      <td>205292</td>\n      <td>{}</td>\n      <td>1</td>\n      <td>0</td>\n      <td>{\"name\":\"rect\",\"x\":798,\"y\":448,\"width\":94,\"hei...</td>\n      <td>{}</td>\n    </tr>\n    <tr>\n      <th>...</th>\n      <td>...</td>\n      <td>...</td>\n      <td>...</td>\n      <td>...</td>\n      <td>...</td>\n      <td>...</td>\n      <td>...</td>\n    </tr>\n    <tr>\n      <th>600</th>\n      <td>N286_286_original.jpg</td>\n      <td>29934</td>\n      <td>{}</td>\n      <td>1</td>\n      <td>0</td>\n      <td>{\"name\":\"rect\",\"x\":378,\"y\":169,\"width\":65,\"hei...</td>\n      <td>{}</td>\n    </tr>\n    <tr>\n      <th>601</th>\n      <td>N287_287_original.jpg</td>\n      <td>32886</td>\n      <td>{}</td>\n      <td>1</td>\n      <td>0</td>\n      <td>{\"name\":\"rect\",\"x\":388,\"y\":228,\"width\":56,\"hei...</td>\n      <td>{}</td>\n    </tr>\n    <tr>\n      <th>602</th>\n      <td>N288_288_original.jpg</td>\n      <td>30154</td>\n      <td>{}</td>\n      <td>1</td>\n      <td>0</td>\n      <td>{\"name\":\"rect\",\"x\":362,\"y\":209,\"width\":77,\"hei...</td>\n      <td>{}</td>\n    </tr>\n    <tr>\n      <th>603</th>\n      <td>N289_289_original.jpg</td>\n      <td>24162</td>\n      <td>{}</td>\n      <td>1</td>\n      <td>0</td>\n      <td>{\"name\":\"rect\",\"x\":384,\"y\":237,\"width\":63,\"hei...</td>\n      <td>{}</td>\n    </tr>\n    <tr>\n      <th>604</th>\n      <td>N290_290_original.jpg</td>\n      <td>22447</td>\n      <td>{}</td>\n      <td>1</td>\n      <td>0</td>\n      <td>{\"name\":\"rect\",\"x\":337,\"y\":212,\"width\":78,\"hei...</td>\n      <td>{}</td>\n    </tr>\n  </tbody>\n</table>\n<p>605 rows × 7 columns</p>\n</div>"
     },
     "execution_count": 3,
     "metadata": {},
     "output_type": "execute_result"
    }
   ],
   "source": [
    "data_bbox = pd.read_csv('../Data/Detection/bounding_boxes_viavgg_letter.csv')\n",
    "data_bbox"
   ]
  },
  {
   "cell_type": "code",
   "execution_count": 4,
   "metadata": {},
   "outputs": [],
   "source": [
    "def xywh_to_xyxy(x_min, y_min, box_width, box_height):\n",
    "    x_max = x_min + box_width\n",
    "    y_max = y_min + box_height\n",
    "    return x_min, y_min, x_max, y_max\n",
    "\n",
    "def xywh_to_xywh_scaled(x_min, y_min, box_height, box_width, image_width, image_height):\n",
    "    x_center = x_min + box_width // 2\n",
    "    y_center = y_min + box_height // 2\n",
    "    return x_center / image_width, y_center / image_height, box_width / image_width, box_height / image_height"
   ]
  },
  {
   "cell_type": "code",
   "execution_count": 11,
   "metadata": {
    "scrolled": true
   },
   "outputs": [],
   "source": [
    "class_num = 1\n",
    "\n",
    "for i, row in data_bbox.iterrows():\n",
    "    \n",
    "    annotation = ast.literal_eval(\n",
    "        row['region_shape_attributes']\n",
    "    )\n",
    "\n",
    "    if not annotation:\n",
    "        continue\n",
    "\n",
    "    filename = row['filename'].split('.')[0]\n",
    "    image = cv2.imread(os.path.join('../Data', 'Detection','yolov4', 'data', 'images', row['filename']))\n",
    "\n",
    "    width, height = None, None\n",
    "    try:\n",
    "        width, height = image.shape[1], image.shape[0]\n",
    "    except AttributeError:\n",
    "        print(row)\n",
    "        pass\n",
    "\n",
    "    x, y, w, h = xywh_to_xywh_scaled(annotation['x'], annotation['y'], annotation['width'], annotation['height'],\n",
    "                                             width, height)\n",
    "    \n",
    "    \n",
    "    if os.path.exists(f'../Data/Detection/yolov4/data/images/{filename}.txt'):\n",
    "        mode = 'a'\n",
    "        line = f'\\n{class_num} {x} {y} {w} {h}'\n",
    "    else:\n",
    "        mode = 'w'\n",
    "        line = f'{class_num} {x} {y} {w} {h}'\n",
    "        \n",
    "    with open(f'../Data/Detection/yolov4/data/images/{filename}.txt', mode) as file:\n",
    "        file.write(line)\n",
    "        "
   ]
  },
  {
   "cell_type": "markdown",
   "source": [
    "# Create Train and validation Dataset"
   ],
   "metadata": {
    "collapsed": false
   }
  },
  {
   "cell_type": "code",
   "execution_count": 16,
   "metadata": {
    "pycharm": {
     "name": "#%%\n"
    }
   },
   "outputs": [],
   "source": [
    "import shutil\n",
    "\n",
    "dataframe = pd.read_csv('../Data/ClassificationCity/city_year_val.csv')\n",
    "for _, row in dataframe.iterrows():\n",
    "    image_name = row['ImageName']\n",
    "    shutil.copy(\n",
    "        os.path.join('../Data/Detection/yolov4/data/images', image_name),\n",
    "        os.path.join('../Data/Detection/yolov4/data/val', image_name)\n",
    "    )\n",
    "\n",
    "    shutil.copy(\n",
    "        os.path.join('../Data/Detection/yolov4/data/images', image_name.split('.')[0] + '.txt'),\n",
    "        os.path.join('../Data/Detection/yolov4/data/val', image_name.split('.')[0] + '.txt')\n",
    "    )\n"
   ]
  },
  {
   "cell_type": "code",
   "execution_count": 14,
   "outputs": [
    {
     "data": {
      "text/plain": "array([[[110, 105, 105],\n        [105, 105, 105],\n        [114, 109, 109],\n        ...,\n        [121, 121, 121],\n        [125, 125, 125],\n        [121, 121, 121]],\n\n       [[110, 105, 110],\n        [110, 105, 110],\n        [109, 109, 109],\n        ...,\n        [121, 121, 121],\n        [125, 121, 125],\n        [127, 125, 121]],\n\n       [[114, 109, 114],\n        [110, 105, 110],\n        [105, 105, 105],\n        ...,\n        [121, 125, 125],\n        [121, 121, 121],\n        [121, 121, 121]],\n\n       ...,\n\n       [[ 75,  95, 100],\n        [ 84,  99, 106],\n        [ 75,  95, 100],\n        ...,\n        [ 75,  95, 100],\n        [ 84,  98, 100],\n        [ 75,  95, 100]],\n\n       [[ 75,  95, 100],\n        [ 84,  99, 106],\n        [ 84,  99, 106],\n        ...,\n        [ 85,  91,  99],\n        [ 75,  95, 100],\n        [ 75,  95, 100]],\n\n       [[ 84,  99, 106],\n        [ 91, 100, 106],\n        [ 84,  99, 106],\n        ...,\n        [ 75,  95, 100],\n        [ 75,  95, 100],\n        [ 84,  98, 100]]], dtype=uint8)"
     },
     "execution_count": 14,
     "metadata": {},
     "output_type": "execute_result"
    }
   ],
   "source": [
    "cv2.imread('../Data/Detection/yolov4/data/images/N28_28_original.jpg')"
   ],
   "metadata": {
    "collapsed": false,
    "pycharm": {
     "name": "#%%\n"
    }
   }
  },
  {
   "cell_type": "code",
   "execution_count": null,
   "outputs": [],
   "source": [],
   "metadata": {
    "collapsed": false,
    "pycharm": {
     "name": "#%%\n"
    }
   }
  }
 ],
 "metadata": {
  "kernelspec": {
   "display_name": "Python 3",
   "language": "python",
   "name": "python3"
  },
  "language_info": {
   "codemirror_mode": {
    "name": "ipython",
    "version": 3
   },
   "file_extension": ".py",
   "mimetype": "text/x-python",
   "name": "python",
   "nbconvert_exporter": "python",
   "pygments_lexer": "ipython3",
   "version": "3.9.1"
  }
 },
 "nbformat": 4,
 "nbformat_minor": 4
}