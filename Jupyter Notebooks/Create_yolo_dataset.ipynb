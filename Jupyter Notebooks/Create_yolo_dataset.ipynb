{
 "cells": [
  {
   "cell_type": "code",
   "execution_count": 2,
   "metadata": {},
   "outputs": [],
   "source": [
    "import cv2\n",
    "import os\n",
    "import pandas as pd\n",
    "import ast"
   ]
  },
  {
   "cell_type": "code",
   "execution_count": 22,
   "metadata": {},
   "outputs": [
    {
     "name": "stdout",
     "output_type": "stream",
     "text": [
      "C:\\Файлы и программы\\Учеба\\ВКР\\Dataset\n"
     ]
    }
   ],
   "source": [
    "!cd '\\Файлы и программы\\Учеба\\ВКР\\Dataset'"
   ]
  },
  {
   "cell_type": "code",
   "execution_count": 23,
   "metadata": {
    "scrolled": true
   },
   "outputs": [
    {
     "data": {
      "text/html": [
       "<div>\n",
       "<style scoped>\n",
       "    .dataframe tbody tr th:only-of-type {\n",
       "        vertical-align: middle;\n",
       "    }\n",
       "\n",
       "    .dataframe tbody tr th {\n",
       "        vertical-align: top;\n",
       "    }\n",
       "\n",
       "    .dataframe thead th {\n",
       "        text-align: right;\n",
       "    }\n",
       "</style>\n",
       "<table border=\"1\" class=\"dataframe\">\n",
       "  <thead>\n",
       "    <tr style=\"text-align: right;\">\n",
       "      <th></th>\n",
       "      <th>filename</th>\n",
       "      <th>file_size</th>\n",
       "      <th>file_attributes</th>\n",
       "      <th>region_count</th>\n",
       "      <th>region_id</th>\n",
       "      <th>region_shape_attributes</th>\n",
       "      <th>region_attributes</th>\n",
       "    </tr>\n",
       "  </thead>\n",
       "  <tbody>\n",
       "    <tr>\n",
       "      <th>0</th>\n",
       "      <td>1_original.jpg</td>\n",
       "      <td>398745</td>\n",
       "      <td>{}</td>\n",
       "      <td>1</td>\n",
       "      <td>0</td>\n",
       "      <td>{\"name\":\"rect\",\"x\":1123,\"y\":775,\"width\":134,\"h...</td>\n",
       "      <td>{}</td>\n",
       "    </tr>\n",
       "    <tr>\n",
       "      <th>1</th>\n",
       "      <td>2_original.jpg</td>\n",
       "      <td>172977</td>\n",
       "      <td>{}</td>\n",
       "      <td>1</td>\n",
       "      <td>0</td>\n",
       "      <td>{\"name\":\"rect\",\"x\":520,\"y\":414,\"width\":564,\"he...</td>\n",
       "      <td>{}</td>\n",
       "    </tr>\n",
       "    <tr>\n",
       "      <th>2</th>\n",
       "      <td>3_original.jpg</td>\n",
       "      <td>144855</td>\n",
       "      <td>{}</td>\n",
       "      <td>1</td>\n",
       "      <td>0</td>\n",
       "      <td>{\"name\":\"rect\",\"x\":442,\"y\":236,\"width\":370,\"he...</td>\n",
       "      <td>{}</td>\n",
       "    </tr>\n",
       "    <tr>\n",
       "      <th>3</th>\n",
       "      <td>4_original.jpg</td>\n",
       "      <td>205292</td>\n",
       "      <td>{}</td>\n",
       "      <td>1</td>\n",
       "      <td>0</td>\n",
       "      <td>{\"name\":\"rect\",\"x\":517,\"y\":411,\"width\":404,\"he...</td>\n",
       "      <td>{}</td>\n",
       "    </tr>\n",
       "    <tr>\n",
       "      <th>4</th>\n",
       "      <td>5_original.jpg</td>\n",
       "      <td>118295</td>\n",
       "      <td>{}</td>\n",
       "      <td>1</td>\n",
       "      <td>0</td>\n",
       "      <td>{\"name\":\"rect\",\"x\":340,\"y\":227,\"width\":470,\"he...</td>\n",
       "      <td>{}</td>\n",
       "    </tr>\n",
       "    <tr>\n",
       "      <th>...</th>\n",
       "      <td>...</td>\n",
       "      <td>...</td>\n",
       "      <td>...</td>\n",
       "      <td>...</td>\n",
       "      <td>...</td>\n",
       "      <td>...</td>\n",
       "      <td>...</td>\n",
       "    </tr>\n",
       "    <tr>\n",
       "      <th>600</th>\n",
       "      <td>N286_286_original.jpg</td>\n",
       "      <td>29934</td>\n",
       "      <td>{}</td>\n",
       "      <td>1</td>\n",
       "      <td>0</td>\n",
       "      <td>{\"name\":\"rect\",\"x\":25,\"y\":161,\"width\":414,\"hei...</td>\n",
       "      <td>{}</td>\n",
       "    </tr>\n",
       "    <tr>\n",
       "      <th>601</th>\n",
       "      <td>N287_287_original.jpg</td>\n",
       "      <td>32886</td>\n",
       "      <td>{}</td>\n",
       "      <td>1</td>\n",
       "      <td>0</td>\n",
       "      <td>{\"name\":\"rect\",\"x\":30,\"y\":178,\"width\":416,\"hei...</td>\n",
       "      <td>{}</td>\n",
       "    </tr>\n",
       "    <tr>\n",
       "      <th>602</th>\n",
       "      <td>N288_288_original.jpg</td>\n",
       "      <td>30154</td>\n",
       "      <td>{}</td>\n",
       "      <td>1</td>\n",
       "      <td>0</td>\n",
       "      <td>{\"name\":\"rect\",\"x\":54,\"y\":178,\"width\":395,\"hei...</td>\n",
       "      <td>{}</td>\n",
       "    </tr>\n",
       "    <tr>\n",
       "      <th>603</th>\n",
       "      <td>N289_289_original.jpg</td>\n",
       "      <td>24162</td>\n",
       "      <td>{}</td>\n",
       "      <td>1</td>\n",
       "      <td>0</td>\n",
       "      <td>{\"name\":\"rect\",\"x\":23,\"y\":142,\"width\":430,\"hei...</td>\n",
       "      <td>{}</td>\n",
       "    </tr>\n",
       "    <tr>\n",
       "      <th>604</th>\n",
       "      <td>N290_290_original.jpg</td>\n",
       "      <td>22447</td>\n",
       "      <td>{}</td>\n",
       "      <td>1</td>\n",
       "      <td>0</td>\n",
       "      <td>{\"name\":\"rect\",\"x\":114,\"y\":160,\"width\":302,\"he...</td>\n",
       "      <td>{}</td>\n",
       "    </tr>\n",
       "  </tbody>\n",
       "</table>\n",
       "<p>605 rows × 7 columns</p>\n",
       "</div>"
      ],
      "text/plain": [
       "                  filename  file_size file_attributes  region_count  \\\n",
       "0           1_original.jpg     398745              {}             1   \n",
       "1           2_original.jpg     172977              {}             1   \n",
       "2           3_original.jpg     144855              {}             1   \n",
       "3           4_original.jpg     205292              {}             1   \n",
       "4           5_original.jpg     118295              {}             1   \n",
       "..                     ...        ...             ...           ...   \n",
       "600  N286_286_original.jpg      29934              {}             1   \n",
       "601  N287_287_original.jpg      32886              {}             1   \n",
       "602  N288_288_original.jpg      30154              {}             1   \n",
       "603  N289_289_original.jpg      24162              {}             1   \n",
       "604  N290_290_original.jpg      22447              {}             1   \n",
       "\n",
       "     region_id                            region_shape_attributes  \\\n",
       "0            0  {\"name\":\"rect\",\"x\":1123,\"y\":775,\"width\":134,\"h...   \n",
       "1            0  {\"name\":\"rect\",\"x\":520,\"y\":414,\"width\":564,\"he...   \n",
       "2            0  {\"name\":\"rect\",\"x\":442,\"y\":236,\"width\":370,\"he...   \n",
       "3            0  {\"name\":\"rect\",\"x\":517,\"y\":411,\"width\":404,\"he...   \n",
       "4            0  {\"name\":\"rect\",\"x\":340,\"y\":227,\"width\":470,\"he...   \n",
       "..         ...                                                ...   \n",
       "600          0  {\"name\":\"rect\",\"x\":25,\"y\":161,\"width\":414,\"hei...   \n",
       "601          0  {\"name\":\"rect\",\"x\":30,\"y\":178,\"width\":416,\"hei...   \n",
       "602          0  {\"name\":\"rect\",\"x\":54,\"y\":178,\"width\":395,\"hei...   \n",
       "603          0  {\"name\":\"rect\",\"x\":23,\"y\":142,\"width\":430,\"hei...   \n",
       "604          0  {\"name\":\"rect\",\"x\":114,\"y\":160,\"width\":302,\"he...   \n",
       "\n",
       "    region_attributes  \n",
       "0                  {}  \n",
       "1                  {}  \n",
       "2                  {}  \n",
       "3                  {}  \n",
       "4                  {}  \n",
       "..                ...  \n",
       "600                {}  \n",
       "601                {}  \n",
       "602                {}  \n",
       "603                {}  \n",
       "604                {}  \n",
       "\n",
       "[605 rows x 7 columns]"
      ]
     },
     "execution_count": 23,
     "metadata": {},
     "output_type": "execute_result"
    }
   ],
   "source": [
    "data_bbox = pd.read_csv('bbox.csv')\n",
    "data_bbox"
   ]
  },
  {
   "cell_type": "code",
   "execution_count": 12,
   "metadata": {},
   "outputs": [],
   "source": [
    "def xywh_to_xyxy(x_min, y_min, box_width, box_height):\n",
    "    x_max = x_min + box_width\n",
    "    y_max = y_min + box_height\n",
    "    return x_min, y_min, x_max, y_max\n",
    "\n",
    "def xywh_to_xywh_scaled(x_min, y_min, box_height, box_width, image_width, image_height):\n",
    "    x_center = x_min + box_width // 2\n",
    "    y_center = y_min + box_height // 2\n",
    "    return x_center / image_width, y_center / image_height, box_width / image_width, box_height / image_height"
   ]
  },
  {
   "cell_type": "code",
   "execution_count": 41,
   "metadata": {
    "scrolled": true
   },
   "outputs": [
    {
     "name": "stdout",
     "output_type": "stream",
     "text": [
      "filename                                                 N28_28_original.jpg\n",
      "file_size                                                             191090\n",
      "file_attributes                                                           {}\n",
      "region_count                                                               1\n",
      "region_id                                                                  0\n",
      "region_shape_attributes    {\"name\":\"rect\",\"x\":47,\"y\":151,\"width\":383,\"hei...\n",
      "region_attributes                                                         {}\n",
      "Name: 342, dtype: object\n"
     ]
    }
   ],
   "source": [
    "class_num = 0\n",
    "\n",
    "for i, row in data_bbox.iterrows():\n",
    "    \n",
    "    annotation = ast.literal_eval(\n",
    "        row['region_shape_attributes']\n",
    "    )\n",
    "    \n",
    "\n",
    "    filename = row['filename'].split('.')[0]\n",
    "    image = cv2.imread(os.path.join('yolov4', 'images', row['filename']))\n",
    "\n",
    "    width, height = None, None\n",
    "    try:\n",
    "        width, height = image.shape[1], image.shape[0]\n",
    "    except AttributeError:\n",
    "        print(row)\n",
    "        pass\n",
    "\n",
    "    x, y, w, h = xywh_to_xywh_scaled(annotation['x'], annotation['y'], annotation['width'], annotation['height'],\n",
    "                                             width, height)\n",
    "    \n",
    "    \n",
    "    if os.path.exists(f'yolov4/images/{filename}.txt'):\n",
    "        mode = 'a'\n",
    "        line = f'\\n{class_num} {x} {y} {w} {h}'\n",
    "    else:\n",
    "        mode = 'w'\n",
    "        line = f'{class_num} {x} {y} {w} {h}'\n",
    "        \n",
    "    with open(f'yolov4/images/{filename}.txt', mode) as file:\n",
    "        file.write(line)\n",
    "        "
   ]
  },
  {
   "cell_type": "markdown",
   "source": [
    "# Create Train and validation Dataset"
   ],
   "metadata": {
    "collapsed": false
   }
  },
  {
   "cell_type": "code",
   "execution_count": 7,
   "metadata": {
    "pycharm": {
     "name": "#%%\n"
    }
   },
   "outputs": [],
   "source": [
    "import shutil\n",
    "\n",
    "dataframe = pd.read_csv('../Data/Classification/city_year_train.csv')\n",
    "for _, row in dataframe.iterrows():\n",
    "    image_name = row['ImageName']\n",
    "    shutil.copy(\n",
    "        os.path.join('../Data/Detection/yolov4/obj', image_name),\n",
    "        os.path.join('../Data/Detection/yolov4/val', image_name)\n",
    "    )\n",
    "\n",
    "    shutil.copy(\n",
    "        os.path.join('../Data/Detection/yolov4/obj', image_name.split('.')[0] + '.txt'),\n",
    "        os.path.join('../Data/Detection/yolov4/val', image_name.split('.')[0] + '.txt')\n",
    "    )\n"
   ]
  },
  {
   "cell_type": "code",
   "execution_count": null,
   "outputs": [],
   "source": [],
   "metadata": {
    "collapsed": false,
    "pycharm": {
     "name": "#%%\n"
    }
   }
  }
 ],
 "metadata": {
  "kernelspec": {
   "display_name": "Python 3",
   "language": "python",
   "name": "python3"
  },
  "language_info": {
   "codemirror_mode": {
    "name": "ipython",
    "version": 3
   },
   "file_extension": ".py",
   "mimetype": "text/x-python",
   "name": "python",
   "nbconvert_exporter": "python",
   "pygments_lexer": "ipython3",
   "version": "3.9.1"
  }
 },
 "nbformat": 4,
 "nbformat_minor": 4
}